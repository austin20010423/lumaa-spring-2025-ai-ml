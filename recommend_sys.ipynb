{
 "cells": [
  {
   "cell_type": "markdown",
   "metadata": {},
   "source": [
    "# Netflix popular movies recommendation\n",
    "- Dataset from kaggle https://www.kaggle.com/datasets/narayan63/netflix-popular-movies-dataset\n",
    "- only 200 row for easy use"
   ]
  },
  {
   "cell_type": "markdown",
   "metadata": {},
   "source": [
    "## Data Loading"
   ]
  },
  {
   "cell_type": "code",
   "execution_count": 1,
   "metadata": {},
   "outputs": [
    {
     "data": {
      "text/html": [
       "<div>\n",
       "<style scoped>\n",
       "    .dataframe tbody tr th:only-of-type {\n",
       "        vertical-align: middle;\n",
       "    }\n",
       "\n",
       "    .dataframe tbody tr th {\n",
       "        vertical-align: top;\n",
       "    }\n",
       "\n",
       "    .dataframe thead th {\n",
       "        text-align: right;\n",
       "    }\n",
       "</style>\n",
       "<table border=\"1\" class=\"dataframe\">\n",
       "  <thead>\n",
       "    <tr style=\"text-align: right;\">\n",
       "      <th></th>\n",
       "      <th>title</th>\n",
       "      <th>description</th>\n",
       "    </tr>\n",
       "  </thead>\n",
       "  <tbody>\n",
       "    <tr>\n",
       "      <th>0</th>\n",
       "      <td>Cobra Kai</td>\n",
       "      <td>Decades after their 1984 All Valley Karate Tou...</td>\n",
       "    </tr>\n",
       "    <tr>\n",
       "      <th>1</th>\n",
       "      <td>The Crown</td>\n",
       "      <td>Follows the political rivalries and romance of...</td>\n",
       "    </tr>\n",
       "    <tr>\n",
       "      <th>2</th>\n",
       "      <td>Better Call Saul</td>\n",
       "      <td>The trials and tribulations of criminal lawyer...</td>\n",
       "    </tr>\n",
       "    <tr>\n",
       "      <th>3</th>\n",
       "      <td>Devil in Ohio</td>\n",
       "      <td>When a psychiatrist shelters a mysterious cult...</td>\n",
       "    </tr>\n",
       "    <tr>\n",
       "      <th>4</th>\n",
       "      <td>Cyberpunk: Edgerunners</td>\n",
       "      <td>A Street Kid trying to survive in a technology...</td>\n",
       "    </tr>\n",
       "    <tr>\n",
       "      <th>5</th>\n",
       "      <td>The Sandman</td>\n",
       "      <td>Upon escaping after decades of imprisonment by...</td>\n",
       "    </tr>\n",
       "    <tr>\n",
       "      <th>6</th>\n",
       "      <td>Rick and Morty</td>\n",
       "      <td>An animated series that follows the exploits o...</td>\n",
       "    </tr>\n",
       "    <tr>\n",
       "      <th>7</th>\n",
       "      <td>Breaking Bad</td>\n",
       "      <td>A high school chemistry teacher diagnosed with...</td>\n",
       "    </tr>\n",
       "    <tr>\n",
       "      <th>8</th>\n",
       "      <td>The Imperfects</td>\n",
       "      <td>After an experimental gene therapy turns them ...</td>\n",
       "    </tr>\n",
       "    <tr>\n",
       "      <th>9</th>\n",
       "      <td>Blonde</td>\n",
       "      <td>A fictionalized chronicle of the inner life of...</td>\n",
       "    </tr>\n",
       "  </tbody>\n",
       "</table>\n",
       "</div>"
      ],
      "text/plain": [
       "                    title                                        description\n",
       "0               Cobra Kai  Decades after their 1984 All Valley Karate Tou...\n",
       "1               The Crown  Follows the political rivalries and romance of...\n",
       "2        Better Call Saul  The trials and tribulations of criminal lawyer...\n",
       "3           Devil in Ohio  When a psychiatrist shelters a mysterious cult...\n",
       "4  Cyberpunk: Edgerunners  A Street Kid trying to survive in a technology...\n",
       "5             The Sandman  Upon escaping after decades of imprisonment by...\n",
       "6          Rick and Morty  An animated series that follows the exploits o...\n",
       "7            Breaking Bad  A high school chemistry teacher diagnosed with...\n",
       "8          The Imperfects  After an experimental gene therapy turns them ...\n",
       "9                  Blonde  A fictionalized chronicle of the inner life of..."
      ]
     },
     "execution_count": 1,
     "metadata": {},
     "output_type": "execute_result"
    }
   ],
   "source": [
    "import pandas as pd\n",
    "\n",
    "# Load data from fixed movies.csv\n",
    "df = pd.read_csv(\"movies.csv\")\n",
    "df.head(10)"
   ]
  },
  {
   "cell_type": "markdown",
   "metadata": {},
   "source": [
    "## Sentence Embedding\n",
    "- Based on the description of movies"
   ]
  },
  {
   "cell_type": "code",
   "execution_count": 2,
   "metadata": {},
   "outputs": [
    {
     "name": "stderr",
     "output_type": "stream",
     "text": [
      "c:\\Anaconda\\envs\\lumaa\\lib\\site-packages\\tqdm\\auto.py:21: TqdmWarning: IProgress not found. Please update jupyter and ipywidgets. See https://ipywidgets.readthedocs.io/en/stable/user_install.html\n",
      "  from .autonotebook import tqdm as notebook_tqdm\n"
     ]
    },
    {
     "name": "stdout",
     "output_type": "stream",
     "text": [
      "Embedding Shapes (200, 384)\n"
     ]
    }
   ],
   "source": [
    "from sentence_transformers import SentenceTransformer\n",
    "\n",
    "# embedd description of movies\n",
    "sentences = list(df[\"description\"])\n",
    "\n",
    "model = SentenceTransformer('thenlper/gte-small')\n",
    "embeddings = model.encode(sentences)\n",
    "\n",
    "print(\"Embedding Shapes\", embeddings.shape)"
   ]
  },
  {
   "cell_type": "markdown",
   "metadata": {},
   "source": [
    "## FAISS to create indexes\n",
    "- use faiss indexing method to train for faster searching"
   ]
  },
  {
   "cell_type": "code",
   "execution_count": 3,
   "metadata": {},
   "outputs": [],
   "source": [
    "import faiss\n",
    "import numpy as np\n",
    "\n",
    "d = embeddings.shape[1]\n",
    "nlist = int(np.sqrt(embeddings.shape[0])) # set square root of the dataset \n",
    "quantizer = faiss.IndexFlatL2(d)  # the quantizer\n",
    "index = faiss.IndexIVFFlat(quantizer, d, nlist, faiss.METRIC_L2)\n",
    "\n",
    "# Train the index\n",
    "index.train(embeddings)\n",
    "index.add(embeddings)"
   ]
  },
  {
   "cell_type": "markdown",
   "metadata": {},
   "source": [
    "## Query Data and show ranking"
   ]
  },
  {
   "cell_type": "code",
   "execution_count": 4,
   "metadata": {},
   "outputs": [],
   "source": [
    "# write your query here to see recommendations\n",
    "# you can change query1-2 with query to search for a recommendation\n",
    "query1 = \"I want a movie that girl is the main charater\"\n",
    "query2 = \"I like romance movies\"\n",
    "query = \"South Park\"\n",
    "\n",
    "# embedd query text \n",
    "query_embedding = model.encode(query)\n",
    "query_embedding = query_embedding.reshape(1, -1)"
   ]
  },
  {
   "cell_type": "code",
   "execution_count": 5,
   "metadata": {},
   "outputs": [
    {
     "name": "stdout",
     "output_type": "stream",
     "text": [
      "Searching time: 0.001015s\n"
     ]
    },
    {
     "data": {
      "text/plain": [
       "['South Park',\n",
       " 'Seinfeld',\n",
       " 'Rick and Morty',\n",
       " 'I Used to Be Famous',\n",
       " \"That '70s Show\"]"
      ]
     },
     "execution_count": 5,
     "metadata": {},
     "output_type": "execute_result"
    }
   ],
   "source": [
    "from time import time\n",
    "\n",
    "k = 5  # number of nearest contents\n",
    "\n",
    "start = time()\n",
    "# search for top 5 similarity movies\n",
    "Distance, Index_results = index.search(query_embedding, k)\n",
    "end = time()\n",
    "time_searching = end - start\n",
    "print(\"Searching time: %fs\" %(time_searching))\n",
    "\n",
    "movies_title = list(df[\"title\"])\n",
    "result_movies_name = [movies_title[i] for i in Index_results.tolist()[0]]\n",
    "\n",
    "result_movies_name"
   ]
  },
  {
   "cell_type": "code",
   "execution_count": 6,
   "metadata": {},
   "outputs": [],
   "source": [
    "Distance_list = Distance.tolist()[0]\n",
    "\n",
    "result_table = pd.DataFrame(columns=[\"Ranking\", \"Title\", \"L2 distance\"])\n",
    "result_table[\"Ranking\"] = [n+1 for n in range(len(Distance_list))]\n",
    "result_table[\"Title\"] = result_movies_name\n",
    "result_table[\"L2 distance\"] = Distance_list"
   ]
  },
  {
   "cell_type": "code",
   "execution_count": 7,
   "metadata": {},
   "outputs": [
    {
     "data": {
      "text/markdown": [
       "## Ranking of Recommendation"
      ],
      "text/plain": [
       "<IPython.core.display.Markdown object>"
      ]
     },
     "metadata": {},
     "output_type": "display_data"
    },
    {
     "data": {
      "text/html": [
       "<div>\n",
       "<style scoped>\n",
       "    .dataframe tbody tr th:only-of-type {\n",
       "        vertical-align: middle;\n",
       "    }\n",
       "\n",
       "    .dataframe tbody tr th {\n",
       "        vertical-align: top;\n",
       "    }\n",
       "\n",
       "    .dataframe thead th {\n",
       "        text-align: right;\n",
       "    }\n",
       "</style>\n",
       "<table border=\"1\" class=\"dataframe\">\n",
       "  <thead>\n",
       "    <tr style=\"text-align: right;\">\n",
       "      <th></th>\n",
       "      <th>Ranking</th>\n",
       "      <th>Title</th>\n",
       "      <th>L2 distance</th>\n",
       "    </tr>\n",
       "  </thead>\n",
       "  <tbody>\n",
       "    <tr>\n",
       "      <th>0</th>\n",
       "      <td>1</td>\n",
       "      <td>South Park</td>\n",
       "      <td>0.185832</td>\n",
       "    </tr>\n",
       "    <tr>\n",
       "      <th>1</th>\n",
       "      <td>2</td>\n",
       "      <td>Seinfeld</td>\n",
       "      <td>0.341970</td>\n",
       "    </tr>\n",
       "    <tr>\n",
       "      <th>2</th>\n",
       "      <td>3</td>\n",
       "      <td>Rick and Morty</td>\n",
       "      <td>0.348036</td>\n",
       "    </tr>\n",
       "    <tr>\n",
       "      <th>3</th>\n",
       "      <td>4</td>\n",
       "      <td>I Used to Be Famous</td>\n",
       "      <td>0.368147</td>\n",
       "    </tr>\n",
       "    <tr>\n",
       "      <th>4</th>\n",
       "      <td>5</td>\n",
       "      <td>That '70s Show</td>\n",
       "      <td>0.380745</td>\n",
       "    </tr>\n",
       "  </tbody>\n",
       "</table>\n",
       "</div>"
      ],
      "text/plain": [
       "   Ranking                Title  L2 distance\n",
       "0        1           South Park     0.185832\n",
       "1        2             Seinfeld     0.341970\n",
       "2        3       Rick and Morty     0.348036\n",
       "3        4  I Used to Be Famous     0.368147\n",
       "4        5       That '70s Show     0.380745"
      ]
     },
     "metadata": {},
     "output_type": "display_data"
    }
   ],
   "source": [
    "from IPython.display import display, Markdown\n",
    "\n",
    "display(Markdown(\"## Ranking of Recommendation\"))\n",
    "display(result_table)"
   ]
  },
  {
   "cell_type": "code",
   "execution_count": null,
   "metadata": {},
   "outputs": [],
   "source": []
  }
 ],
 "metadata": {
  "kernelspec": {
   "display_name": "lumaa",
   "language": "python",
   "name": "python3"
  },
  "language_info": {
   "codemirror_mode": {
    "name": "ipython",
    "version": 3
   },
   "file_extension": ".py",
   "mimetype": "text/x-python",
   "name": "python",
   "nbconvert_exporter": "python",
   "pygments_lexer": "ipython3",
   "version": "3.9.21"
  }
 },
 "nbformat": 4,
 "nbformat_minor": 2
}
